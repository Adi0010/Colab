{
  "nbformat": 4,
  "nbformat_minor": 0,
  "metadata": {
    "colab": {
      "name": "DGL_GCN.ipynb",
      "provenance": [],
      "authorship_tag": "ABX9TyPz/wTgqgQrEQjSx5gPtc1I",
      "include_colab_link": true
    },
    "kernelspec": {
      "name": "python3",
      "display_name": "Python 3"
    }
  },
  "cells": [
    {
      "cell_type": "markdown",
      "metadata": {
        "id": "view-in-github",
        "colab_type": "text"
      },
      "source": [
        "<a href=\"https://colab.research.google.com/github/Adi0010/Colab/blob/master/DGL_GCN.ipynb\" target=\"_parent\"><img src=\"https://colab.research.google.com/assets/colab-badge.svg\" alt=\"Open In Colab\"/></a>"
      ]
    },
    {
      "cell_type": "code",
      "metadata": {
        "colab": {
          "base_uri": "https://localhost:8080/"
        },
        "id": "o0_C_Zl-AzL3",
        "outputId": "f262bfa0-8c0c-4f7b-9640-634db968708e"
      },
      "source": [
        "!pip install dgl"
      ],
      "execution_count": 3,
      "outputs": [
        {
          "output_type": "stream",
          "text": [
            "Collecting dgl\n",
            "\u001b[?25l  Downloading https://files.pythonhosted.org/packages/46/62/da7146c0e46f93dd1f17cccea3010def155a1f479c0b036b604e952f321f/dgl-0.5.3-cp36-cp36m-manylinux1_x86_64.whl (3.6MB)\n",
            "\u001b[K     |████████████████████████████████| 3.6MB 5.8MB/s \n",
            "\u001b[?25hRequirement already satisfied: requests>=2.19.0 in /usr/local/lib/python3.6/dist-packages (from dgl) (2.23.0)\n",
            "Requirement already satisfied: scipy>=1.1.0 in /usr/local/lib/python3.6/dist-packages (from dgl) (1.4.1)\n",
            "Requirement already satisfied: numpy>=1.14.0 in /usr/local/lib/python3.6/dist-packages (from dgl) (1.18.5)\n",
            "Requirement already satisfied: networkx>=2.1 in /usr/local/lib/python3.6/dist-packages (from dgl) (2.5)\n",
            "Requirement already satisfied: idna<3,>=2.5 in /usr/local/lib/python3.6/dist-packages (from requests>=2.19.0->dgl) (2.10)\n",
            "Requirement already satisfied: chardet<4,>=3.0.2 in /usr/local/lib/python3.6/dist-packages (from requests>=2.19.0->dgl) (3.0.4)\n",
            "Requirement already satisfied: urllib3!=1.25.0,!=1.25.1,<1.26,>=1.21.1 in /usr/local/lib/python3.6/dist-packages (from requests>=2.19.0->dgl) (1.24.3)\n",
            "Requirement already satisfied: certifi>=2017.4.17 in /usr/local/lib/python3.6/dist-packages (from requests>=2.19.0->dgl) (2020.12.5)\n",
            "Requirement already satisfied: decorator>=4.3.0 in /usr/local/lib/python3.6/dist-packages (from networkx>=2.1->dgl) (4.4.2)\n",
            "Installing collected packages: dgl\n",
            "Successfully installed dgl-0.5.3\n"
          ],
          "name": "stdout"
        }
      ]
    },
    {
      "cell_type": "code",
      "metadata": {
        "colab": {
          "base_uri": "https://localhost:8080/"
        },
        "id": "koFNlv_PAbQd",
        "outputId": "84d5c0ce-5a05-4723-e12a-27172bc0c77d"
      },
      "source": [
        "import dgl\n",
        "import dgl.function as fn\n",
        "import torch as th\n",
        "import torch.nn as nn\n",
        "import torch.nn.functional as F\n",
        "from dgl import DGLGraph\n",
        "\n",
        "gcn_msg = fn.copy_src(src='h', out='m')\n",
        "gcn_reduce = fn.sum(msg='m', out='h')"
      ],
      "execution_count": 4,
      "outputs": [
        {
          "output_type": "stream",
          "text": [
            "Setting the default backend to \"pytorch\". You can change it in the ~/.dgl/config.json file or export the DGLBACKEND environment variable.  Valid options are: pytorch, mxnet, tensorflow (all lowercase)\n"
          ],
          "name": "stdout"
        },
        {
          "output_type": "stream",
          "text": [
            "DGL backend not selected or invalid.  Assuming PyTorch for now.\n",
            "Using backend: pytorch\n"
          ],
          "name": "stderr"
        }
      ]
    },
    {
      "cell_type": "code",
      "metadata": {
        "id": "UtzYI_nYAsbE"
      },
      "source": [
        "class GCNLayer(nn.Module):\n",
        "    def __init__(self, in_feats, out_feats):\n",
        "        super(GCNLayer, self).__init__()\n",
        "        self.linear = nn.Linear(in_feats, out_feats)\n",
        "\n",
        "    def forward(self, g, feature):\n",
        "        # Creating a local scope so that all the stored ndata and edata\n",
        "        # (such as the `'h'` ndata below) are automatically popped out\n",
        "        # when the scope exits.\n",
        "        with g.local_scope():\n",
        "            g.ndata['h'] = feature\n",
        "            g.update_all(gcn_msg, gcn_reduce)\n",
        "            h = g.ndata['h']\n",
        "            return self.linear(h)"
      ],
      "execution_count": 5,
      "outputs": []
    },
    {
      "cell_type": "code",
      "metadata": {
        "colab": {
          "base_uri": "https://localhost:8080/"
        },
        "id": "IOkJD17BAucE",
        "outputId": "d42da8b5-a39a-4c84-dcd1-b0b70e44293d"
      },
      "source": [
        "class Net(nn.Module):\n",
        "    def __init__(self):\n",
        "        super(Net, self).__init__()\n",
        "        self.layer1 = GCNLayer(1433, 16)\n",
        "        self.layer2 = GCNLayer(16, 7)\n",
        "\n",
        "    def forward(self, g, features):\n",
        "        x = F.relu(self.layer1(g, features))\n",
        "        x = self.layer2(g, x)\n",
        "        return x\n",
        "net = Net()\n",
        "print(net)"
      ],
      "execution_count": 6,
      "outputs": [
        {
          "output_type": "stream",
          "text": [
            "Net(\n",
            "  (layer1): GCNLayer(\n",
            "    (linear): Linear(in_features=1433, out_features=16, bias=True)\n",
            "  )\n",
            "  (layer2): GCNLayer(\n",
            "    (linear): Linear(in_features=16, out_features=7, bias=True)\n",
            "  )\n",
            ")\n"
          ],
          "name": "stdout"
        }
      ]
    },
    {
      "cell_type": "code",
      "metadata": {
        "id": "eb5tA_6zAwyU"
      },
      "source": [
        "from dgl.data import citation_graph as citegrh\n",
        "import networkx as nx\n",
        "def load_cora_data():\n",
        "    data = citegrh.load_cora()\n",
        "    features = th.FloatTensor(data.features)\n",
        "    labels = th.LongTensor(data.labels)\n",
        "    train_mask = th.BoolTensor(data.train_mask)\n",
        "    test_mask = th.BoolTensor(data.test_mask)\n",
        "    g = DGLGraph(data.graph)\n",
        "    return g, features, labels, train_mask, test_mask"
      ],
      "execution_count": 7,
      "outputs": []
    },
    {
      "cell_type": "code",
      "metadata": {
        "id": "tmPe6F5EAyZg"
      },
      "source": [
        "def evaluate(model, g, features, labels, mask):\n",
        "    model.eval()\n",
        "    with th.no_grad():\n",
        "        logits = model(g, features)\n",
        "        logits = logits[mask]\n",
        "        labels = labels[mask]\n",
        "        _, indices = th.max(logits, dim=1)\n",
        "        correct = th.sum(indices == labels)\n",
        "        return correct.item() * 1.0 / len(labels)"
      ],
      "execution_count": 8,
      "outputs": []
    },
    {
      "cell_type": "code",
      "metadata": {
        "colab": {
          "base_uri": "https://localhost:8080/"
        },
        "id": "k_-kNENlBLaI",
        "outputId": "6b4d2a16-a2f6-4a7b-ab53-e2eb39054e1d"
      },
      "source": [
        "import time\n",
        "import numpy as np\n",
        "g, features, labels, train_mask, test_mask = load_cora_data()\n",
        "# Add edges between each node and itself to preserve old node representations\n",
        "g.add_edges(g.nodes(), g.nodes())\n",
        "optimizer = th.optim.Adam(net.parameters(), lr=1e-2)\n",
        "dur = []\n",
        "for epoch in range(50):\n",
        "    if epoch >=3:\n",
        "        t0 = time.time()\n",
        "\n",
        "    net.train()\n",
        "    logits = net(g, features)\n",
        "    logp = F.log_softmax(logits, 1)\n",
        "    loss = F.nll_loss(logp[train_mask], labels[train_mask])\n",
        "\n",
        "    optimizer.zero_grad()\n",
        "    loss.backward()\n",
        "    optimizer.step()\n",
        "\n",
        "    if epoch >=3:\n",
        "        dur.append(time.time() - t0)\n",
        "\n",
        "    acc = evaluate(net, g, features, labels, test_mask)\n",
        "    print(\"Epoch {:05d} | Loss {:.4f} | Test Acc {:.4f} | Time(s) {:.4f}\".format(\n",
        "            epoch, loss.item(), acc, np.mean(dur)))"
      ],
      "execution_count": 9,
      "outputs": [
        {
          "output_type": "stream",
          "text": [
            "Downloading /root/.dgl/cora_v2.zip from https://data.dgl.ai/dataset/cora_v2.zip...\n",
            "Extracting file to /root/.dgl/cora_v2\n",
            "Finished data loading and preprocessing.\n",
            "  NumNodes: 2708\n",
            "  NumEdges: 10556\n",
            "  NumFeats: 1433\n",
            "  NumClasses: 7\n",
            "  NumTrainingSamples: 140\n",
            "  NumValidationSamples: 500\n",
            "  NumTestSamples: 1000\n",
            "Done saving data into cached files.\n"
          ],
          "name": "stdout"
        },
        {
          "output_type": "stream",
          "text": [
            "/usr/local/lib/python3.6/dist-packages/dgl/data/utils.py:285: UserWarning: Property dataset.feat will be deprecated, please use g.ndata['feat'] instead.\n",
            "  warnings.warn('Property {} will be deprecated, please use {} instead.'.format(old, new))\n",
            "/usr/local/lib/python3.6/dist-packages/dgl/data/utils.py:285: UserWarning: Property dataset.label will be deprecated, please use g.ndata['label'] instead.\n",
            "  warnings.warn('Property {} will be deprecated, please use {} instead.'.format(old, new))\n",
            "/usr/local/lib/python3.6/dist-packages/dgl/data/utils.py:285: UserWarning: Property dataset.train_mask will be deprecated, please use g.ndata['train_mask'] instead.\n",
            "  warnings.warn('Property {} will be deprecated, please use {} instead.'.format(old, new))\n",
            "/usr/local/lib/python3.6/dist-packages/dgl/data/utils.py:285: UserWarning: Property dataset.test_mask will be deprecated, please use g.ndata['test_mask'] instead.\n",
            "  warnings.warn('Property {} will be deprecated, please use {} instead.'.format(old, new))\n",
            "/usr/local/lib/python3.6/dist-packages/dgl/data/utils.py:285: UserWarning: Property dataset.graph will be deprecated, please use dataset[0] instead.\n",
            "  warnings.warn('Property {} will be deprecated, please use {} instead.'.format(old, new))\n",
            "/usr/local/lib/python3.6/dist-packages/dgl/base.py:45: DGLWarning: Recommend creating graphs by `dgl.graph(data)` instead of `dgl.DGLGraph(data)`.\n",
            "  return warnings.warn(message, category=category, stacklevel=1)\n",
            "/usr/local/lib/python3.6/dist-packages/numpy/core/fromnumeric.py:3335: RuntimeWarning: Mean of empty slice.\n",
            "  out=out, **kwargs)\n",
            "/usr/local/lib/python3.6/dist-packages/numpy/core/_methods.py:161: RuntimeWarning: invalid value encountered in double_scalars\n",
            "  ret = ret.dtype.type(ret / rcount)\n"
          ],
          "name": "stderr"
        },
        {
          "output_type": "stream",
          "text": [
            "Epoch 00000 | Loss 1.9468 | Test Acc 0.1530 | Time(s) nan\n",
            "Epoch 00001 | Loss 1.7879 | Test Acc 0.3510 | Time(s) nan\n",
            "Epoch 00002 | Loss 1.6272 | Test Acc 0.4230 | Time(s) nan\n",
            "Epoch 00003 | Loss 1.5078 | Test Acc 0.5240 | Time(s) 0.0440\n",
            "Epoch 00004 | Loss 1.4006 | Test Acc 0.6150 | Time(s) 0.0440\n",
            "Epoch 00005 | Loss 1.3014 | Test Acc 0.6790 | Time(s) 0.0440\n",
            "Epoch 00006 | Loss 1.2003 | Test Acc 0.7150 | Time(s) 0.0449\n",
            "Epoch 00007 | Loss 1.0996 | Test Acc 0.7250 | Time(s) 0.0446\n",
            "Epoch 00008 | Loss 1.0063 | Test Acc 0.7410 | Time(s) 0.0448\n",
            "Epoch 00009 | Loss 0.9229 | Test Acc 0.7380 | Time(s) 0.0446\n",
            "Epoch 00010 | Loss 0.8439 | Test Acc 0.7330 | Time(s) 0.0445\n",
            "Epoch 00011 | Loss 0.7725 | Test Acc 0.7350 | Time(s) 0.0443\n",
            "Epoch 00012 | Loss 0.7074 | Test Acc 0.7430 | Time(s) 0.0442\n",
            "Epoch 00013 | Loss 0.6453 | Test Acc 0.7540 | Time(s) 0.0441\n",
            "Epoch 00014 | Loss 0.5890 | Test Acc 0.7510 | Time(s) 0.0441\n",
            "Epoch 00015 | Loss 0.5391 | Test Acc 0.7530 | Time(s) 0.0443\n",
            "Epoch 00016 | Loss 0.4916 | Test Acc 0.7560 | Time(s) 0.0443\n",
            "Epoch 00017 | Loss 0.4468 | Test Acc 0.7570 | Time(s) 0.0443\n",
            "Epoch 00018 | Loss 0.4070 | Test Acc 0.7580 | Time(s) 0.0445\n",
            "Epoch 00019 | Loss 0.3712 | Test Acc 0.7590 | Time(s) 0.0445\n",
            "Epoch 00020 | Loss 0.3380 | Test Acc 0.7590 | Time(s) 0.0444\n",
            "Epoch 00021 | Loss 0.3075 | Test Acc 0.7570 | Time(s) 0.0444\n",
            "Epoch 00022 | Loss 0.2801 | Test Acc 0.7510 | Time(s) 0.0445\n",
            "Epoch 00023 | Loss 0.2553 | Test Acc 0.7530 | Time(s) 0.0444\n",
            "Epoch 00024 | Loss 0.2326 | Test Acc 0.7500 | Time(s) 0.0446\n",
            "Epoch 00025 | Loss 0.2120 | Test Acc 0.7520 | Time(s) 0.0446\n",
            "Epoch 00026 | Loss 0.1932 | Test Acc 0.7490 | Time(s) 0.0446\n",
            "Epoch 00027 | Loss 0.1764 | Test Acc 0.7470 | Time(s) 0.0446\n",
            "Epoch 00028 | Loss 0.1611 | Test Acc 0.7490 | Time(s) 0.0446\n",
            "Epoch 00029 | Loss 0.1471 | Test Acc 0.7440 | Time(s) 0.0446\n",
            "Epoch 00030 | Loss 0.1345 | Test Acc 0.7440 | Time(s) 0.0446\n",
            "Epoch 00031 | Loss 0.1229 | Test Acc 0.7470 | Time(s) 0.0449\n",
            "Epoch 00032 | Loss 0.1125 | Test Acc 0.7470 | Time(s) 0.0449\n",
            "Epoch 00033 | Loss 0.1031 | Test Acc 0.7440 | Time(s) 0.0449\n",
            "Epoch 00034 | Loss 0.0945 | Test Acc 0.7440 | Time(s) 0.0449\n",
            "Epoch 00035 | Loss 0.0868 | Test Acc 0.7410 | Time(s) 0.0449\n",
            "Epoch 00036 | Loss 0.0799 | Test Acc 0.7400 | Time(s) 0.0449\n",
            "Epoch 00037 | Loss 0.0736 | Test Acc 0.7380 | Time(s) 0.0452\n",
            "Epoch 00038 | Loss 0.0679 | Test Acc 0.7390 | Time(s) 0.0452\n",
            "Epoch 00039 | Loss 0.0627 | Test Acc 0.7380 | Time(s) 0.0452\n",
            "Epoch 00040 | Loss 0.0580 | Test Acc 0.7380 | Time(s) 0.0452\n",
            "Epoch 00041 | Loss 0.0537 | Test Acc 0.7380 | Time(s) 0.0451\n",
            "Epoch 00042 | Loss 0.0498 | Test Acc 0.7380 | Time(s) 0.0452\n",
            "Epoch 00043 | Loss 0.0462 | Test Acc 0.7380 | Time(s) 0.0451\n",
            "Epoch 00044 | Loss 0.0430 | Test Acc 0.7370 | Time(s) 0.0451\n",
            "Epoch 00045 | Loss 0.0400 | Test Acc 0.7370 | Time(s) 0.0452\n",
            "Epoch 00046 | Loss 0.0373 | Test Acc 0.7370 | Time(s) 0.0451\n",
            "Epoch 00047 | Loss 0.0348 | Test Acc 0.7370 | Time(s) 0.0451\n",
            "Epoch 00048 | Loss 0.0326 | Test Acc 0.7370 | Time(s) 0.0455\n",
            "Epoch 00049 | Loss 0.0305 | Test Acc 0.7360 | Time(s) 0.0455\n"
          ],
          "name": "stdout"
        }
      ]
    },
    {
      "cell_type": "code",
      "metadata": {
        "id": "xZp2TaJoBNbM"
      },
      "source": [
        ""
      ],
      "execution_count": null,
      "outputs": []
    }
  ]
}